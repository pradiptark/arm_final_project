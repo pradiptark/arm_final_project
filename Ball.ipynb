{
 "cells": [
  {
   "cell_type": "markdown",
   "id": "613fef43-3944-4ac4-ab15-a1359c74b689",
   "metadata": {},
   "source": [
    "# Simulating the Arm"
   ]
  },
  {
   "cell_type": "code",
   "execution_count": 55,
   "id": "908b042e-e0e1-4b92-98b0-749af868d1e6",
   "metadata": {},
   "outputs": [],
   "source": [
    "import numpy as np\n",
    "from IPython.display import HTML, SVG, display\n",
    "from matplotlib import pyplot as plt\n",
    "from tqdm import tqdm\n",
    "import sys\n",
    "import pydot\n",
    "\n",
    "from pydrake.multibody.parsing import Parser\n",
    "from pydrake.multibody.plant import AddMultibodyPlantSceneGraph\n",
    "from pydrake.systems.analysis import Simulator\n",
    "from pydrake.systems.framework import DiagramBuilder, LeafSystem\n",
    "from pydrake.systems.planar_scenegraph_visualizer import ConnectPlanarSceneGraphVisualizer\n",
    "from pydrake.systems.primitives import LogVectorOutput, WrapToSystem\n",
    "from pydrake.all import StartMeshcat, MeshcatVisualizer, MeshcatVisualizerParams"
   ]
  },
  {
   "cell_type": "markdown",
   "id": "fb0c6b4f-6cfe-48ba-93ad-13e167cd9567",
   "metadata": {},
   "source": [
    "## Arm in 2D"
   ]
  },
  {
   "cell_type": "code",
   "execution_count": 104,
   "id": "8e265687-e778-4681-9538-dc3ccda87c33",
   "metadata": {},
   "outputs": [],
   "source": [
    "def arm_sim(time, initial_state, log=False, visualize=False, graph=False, meshcat=None,\n",
    "            accuracy=1e-4, min_step=0, step_target=None, fixed_step=False):\n",
    "    builder = DiagramBuilder()\n",
    "    plant, scene_graph = AddMultibodyPlantSceneGraph(builder, 0.)\n",
    "    parser = Parser(plant)\n",
    "    parser.AddModels(\"./ball.urdf\")\n",
    "    plant.Finalize()\n",
    "\n",
    "    n_pos = plant.num_positions()\n",
    "    print(n_pos)\n",
    "\n",
    "    if log:\n",
    "        logger = LogVectorOutput(wrapto.get_output_port(0), builder)\n",
    "    if meshcat:\n",
    "        vis_params = MeshcatVisualizerParams(publish_period=0.01)\n",
    "        MeshcatVisualizer.AddToBuilder(builder, scene_graph, meshcat, params=vis_params)\n",
    "    if visualize:\n",
    "        T_VW = np.array([[1., 0., 0., 0.],\n",
    "                         [0., 0., 1., 0.],\n",
    "                         [0., 0., 0., 1.]])\n",
    "        visualizer = ConnectPlanarSceneGraphVisualizer(\n",
    "            builder, scene_graph, T_VW=T_VW, xlim=[-2, 2],\n",
    "            ylim=[-2, 2], show=False)\n",
    "        visualizer.start_recording()\n",
    "\n",
    "\n",
    "    diagram = builder.Build()\n",
    "    if graph:\n",
    "        display(SVG(pydot.graph_from_dot_data(diagram.GetGraphvizString(max_depth=2))[0].create_svg()))\n",
    "    context = diagram.CreateDefaultContext()\n",
    "    simulator = Simulator(diagram, context)\n",
    "    simulator.get_integrator().set_target_accuracy(accuracy)\n",
    "    if step_target is not None:\n",
    "        simulator.get_integrator().request_initial_step_size_target(step_target)\n",
    "    simulator.get_integrator().set_requested_minimum_step_size(min_step)\n",
    "    simulator.get_integrator().set_fixed_step_mode(fixed_step)\n",
    "    simulator.Initialize()\n",
    "    if meshcat:\n",
    "        simulator.set_target_realtime_rate(1)\n",
    "    context.SetContinuousState(initial_state)\n",
    "\n",
    "    for t in tqdm(np.linspace(0, time, 100), file=sys.stdout):\n",
    "        simulator.AdvanceTo(t)\n",
    "\n",
    "    if log:\n",
    "        log = logger.FindLog(context)\n",
    "        time = log.sample_times()[1:]\n",
    "        data = log.data()[:,1:]\n",
    "    if visualize:\n",
    "        visualizer.stop_recording()\n",
    "        ani = HTML(visualizer.get_recording_as_animation().to_jshtml())\n",
    "    if log and visualize:\n",
    "        return time, data, ani\n",
    "    if log:\n",
    "        return time, data\n",
    "    if visualize:\n",
    "        return ani"
   ]
  },
  {
   "cell_type": "code",
   "execution_count": 103,
   "id": "110fdf00-f024-496c-a978-107ee730a8d1",
   "metadata": {},
   "outputs": [
    {
     "name": "stdout",
     "output_type": "stream",
     "text": [
      "16\n"
     ]
    },
    {
     "ename": "IndexError",
     "evalue": "Operand vector size 13 does not match this drake::systems::Supervector<double> size 31",
     "output_type": "error",
     "traceback": [
      "\u001b[0;31m---------------------------------------------------------------------------\u001b[0m",
      "\u001b[0;31mIndexError\u001b[0m                                Traceback (most recent call last)",
      "Cell \u001b[0;32mIn[103], line 1\u001b[0m\n\u001b[0;32m----> 1\u001b[0m \u001b[43marm_sim\u001b[49m\u001b[43m(\u001b[49m\u001b[38;5;241;43m1\u001b[39;49m\u001b[43m,\u001b[49m\u001b[43m \u001b[49m\u001b[43mnp\u001b[49m\u001b[38;5;241;43m.\u001b[39;49m\u001b[43marray\u001b[49m\u001b[43m(\u001b[49m\u001b[43m[\u001b[49m\u001b[38;5;241;43m0\u001b[39;49m\u001b[43m,\u001b[49m\u001b[43m \u001b[49m\u001b[38;5;241;43m0\u001b[39;49m\u001b[43m,\u001b[49m\u001b[43m \u001b[49m\u001b[38;5;241;43m0\u001b[39;49m\u001b[43m,\u001b[49m\u001b[43m \u001b[49m\u001b[38;5;241;43m1\u001b[39;49m\u001b[43m,\u001b[49m\u001b[43m \u001b[49m\u001b[38;5;241;43m0\u001b[39;49m\u001b[43m,\u001b[49m\u001b[43m \u001b[49m\u001b[38;5;241;43m0\u001b[39;49m\u001b[43m,\u001b[49m\u001b[43m \u001b[49m\u001b[38;5;241;43m0\u001b[39;49m\u001b[43m,\u001b[49m\u001b[43m \u001b[49m\u001b[38;5;241;43m0\u001b[39;49m\u001b[43m,\u001b[49m\u001b[43m \u001b[49m\u001b[38;5;241;43m0\u001b[39;49m\u001b[43m,\u001b[49m\u001b[43m \u001b[49m\u001b[38;5;241;43m0\u001b[39;49m\u001b[43m,\u001b[49m\u001b[43m \u001b[49m\u001b[38;5;241;43m1\u001b[39;49m\u001b[43m,\u001b[49m\u001b[43m \u001b[49m\u001b[38;5;241;43m0\u001b[39;49m\u001b[43m,\u001b[49m\u001b[43m \u001b[49m\u001b[38;5;241;43m0\u001b[39;49m\u001b[43m]\u001b[49m\u001b[43m)\u001b[49m\u001b[43m,\u001b[49m\u001b[43m \u001b[49m\u001b[43mvisualize\u001b[49m\u001b[38;5;241;43m=\u001b[39;49m\u001b[38;5;28;43;01mTrue\u001b[39;49;00m\u001b[43m)\u001b[49m\n",
      "Cell \u001b[0;32mIn[102], line 40\u001b[0m, in \u001b[0;36marm_sim\u001b[0;34m(time, initial_state, log, visualize, graph, meshcat, accuracy, min_step, step_target, fixed_step)\u001b[0m\n\u001b[1;32m     38\u001b[0m \u001b[38;5;28;01mif\u001b[39;00m meshcat:\n\u001b[1;32m     39\u001b[0m     simulator\u001b[38;5;241m.\u001b[39mset_target_realtime_rate(\u001b[38;5;241m1\u001b[39m)\n\u001b[0;32m---> 40\u001b[0m \u001b[43mcontext\u001b[49m\u001b[38;5;241;43m.\u001b[39;49m\u001b[43mSetContinuousState\u001b[49m\u001b[43m(\u001b[49m\u001b[43minitial_state\u001b[49m\u001b[43m)\u001b[49m\n\u001b[1;32m     42\u001b[0m \u001b[38;5;28;01mfor\u001b[39;00m t \u001b[38;5;129;01min\u001b[39;00m tqdm(np\u001b[38;5;241m.\u001b[39mlinspace(\u001b[38;5;241m0\u001b[39m, time, \u001b[38;5;241m100\u001b[39m), file\u001b[38;5;241m=\u001b[39msys\u001b[38;5;241m.\u001b[39mstdout):\n\u001b[1;32m     43\u001b[0m     simulator\u001b[38;5;241m.\u001b[39mAdvanceTo(t)\n",
      "\u001b[0;31mIndexError\u001b[0m: Operand vector size 13 does not match this drake::systems::Supervector<double> size 31"
     ]
    }
   ],
   "source": [
    "arm_sim(1, np.array([0, 0, 0, 1, 0, 0, 0, 0, 0, 0, 1, 0, 0]), visualize=True)"
   ]
  },
  {
   "cell_type": "markdown",
   "id": "2323289b-b09b-4581-ae2a-1fba2fbc8913",
   "metadata": {},
   "source": [
    "## Ball Simulation in 3D"
   ]
  },
  {
   "cell_type": "code",
   "execution_count": 53,
   "id": "b28194ff-719e-423e-bc3d-3a1724a0e26c",
   "metadata": {},
   "outputs": [
    {
     "name": "stderr",
     "output_type": "stream",
     "text": [
      "INFO:drake:Meshcat listening for connections at http://localhost:7000\n"
     ]
    }
   ],
   "source": [
    "meshcat = StartMeshcat()"
   ]
  },
  {
   "cell_type": "code",
   "execution_count": 95,
   "id": "5a641a9c-97df-44f2-aabc-afede15262de",
   "metadata": {},
   "outputs": [
    {
     "name": "stdout",
     "output_type": "stream",
     "text": [
      "7\n",
      "100%|████████████████████████████████████████| 100/100 [00:00<00:00, 101.23it/s]\n"
     ]
    }
   ],
   "source": [
    "ball_sim(1, np.array([0, 0, 0, 1, 0, 0, 1, 0, 0, 0, 1, 0, 1]), meshcat=meshcat)"
   ]
  },
  {
   "cell_type": "code",
   "execution_count": null,
   "id": "aff76ebf-23c1-4775-a82c-9133a6571b4c",
   "metadata": {},
   "outputs": [],
   "source": []
  }
 ],
 "metadata": {
  "kernelspec": {
   "display_name": "Python 3 (ipykernel)",
   "language": "python",
   "name": "python3"
  },
  "language_info": {
   "codemirror_mode": {
    "name": "ipython",
    "version": 3
   },
   "file_extension": ".py",
   "mimetype": "text/x-python",
   "name": "python",
   "nbconvert_exporter": "python",
   "pygments_lexer": "ipython3",
   "version": "3.11.5"
  }
 },
 "nbformat": 4,
 "nbformat_minor": 5
}
