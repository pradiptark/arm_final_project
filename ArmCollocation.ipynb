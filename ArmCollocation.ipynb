{
 "cells": [
  {
   "cell_type": "markdown",
   "id": "fa327672",
   "metadata": {},
   "source": [
    "# Problem 4 - Trajectory Optimization for a planar arm"
   ]
  },
  {
   "cell_type": "markdown",
   "id": "e6f14b28",
   "metadata": {},
   "source": [
    "## Start meshcat visualizer"
   ]
  },
  {
   "cell_type": "markdown",
   "id": "12b17ca9",
   "metadata": {},
   "source": [
    "Open the visualizer by clicking on the url in the output of this cell."
   ]
  },
  {
   "cell_type": "code",
   "execution_count": 1,
   "id": "f27a21e3",
   "metadata": {},
   "outputs": [
    {
     "name": "stderr",
     "output_type": "stream",
     "text": [
      "INFO:drake:Meshcat listening for connections at http://localhost:7000\n"
     ]
    }
   ],
   "source": [
    "from pydrake.all import FindResourceOrThrow, StartMeshcat, MeshcatVisualizer\n",
    "meshcat = StartMeshcat()"
   ]
  },
  {
   "cell_type": "markdown",
   "id": "3aea6085",
   "metadata": {},
   "source": [
    "## Compute the end effector (the ball) position and velocity using symbolic variables\n",
    "\n",
    "This is how we get the expression in `kinematic_constraints.py`"
   ]
  },
  {
   "cell_type": "code",
   "execution_count": 23,
   "id": "95f845b8",
   "metadata": {},
   "outputs": [
    {
     "name": "stdout",
     "output_type": "stream",
     "text": [
      "pos (x_ball, z_ball):\n",
      " Matrix([[-l*sin(q0) - l*sin(q0 + q1)], [-l*cos(q0) - l*cos(q0 + q1)]])\n",
      "\n",
      "vel (x_ball dot, z_ball dot):\n",
      " Matrix([[-l*qdot1*cos(q0 + q1) + qdot0*(-l*cos(q0) - l*cos(q0 + q1))], [l*qdot1*sin(q0 + q1) + qdot0*(l*sin(q0) + l*sin(q0 + q1))]])\n"
     ]
    }
   ],
   "source": [
    "# Computes the end effector velocity as xdot, ydot J_q (pos) * qdot\n",
    "\n",
    "from sympy import *\n",
    "import numpy as np\n",
    "\n",
    "l, q0, q1, qdot0, qdot1 = symbols('l q0 q1 qdot0 qdot1', real=True)\n",
    "pos = l * Matrix([-sin(q0), -cos(q0)]) + \\\n",
    "      l * Matrix([-sin(q0 + q1), -cos(q0 + q1)])\n",
    "vel = Matrix(pos).jacobian([q0, q1]) @ np.reshape(np.array([qdot0, qdot1]), (2,1))\n",
    "\n",
    "print('pos (x_ball, z_ball):\\n', pos)\n",
    "print('')\n",
    "print('vel (x_ball dot, z_ball dot):\\n', vel)"
   ]
  },
  {
   "cell_type": "markdown",
   "id": "2de86ba4-1bde-4bd7-b42a-ac7705cf30bd",
   "metadata": {},
   "source": [
    "## Set up Ball Trajectory"
   ]
  },
  {
   "cell_type": "code",
   "execution_count": 135,
   "id": "b9437bc6-aaa7-46b3-a906-fc45067a3e7a",
   "metadata": {},
   "outputs": [
    {
     "name": "stdout",
     "output_type": "stream",
     "text": [
      "The ball is in the air for 0.5648241606419053s\n"
     ]
    },
    {
     "data": {
      "image/png": "[encoded data removed]",
      "text/plain": [
       "<Figure size 640x480 with 1 Axes>"
      ]
     },
     "metadata": {},
     "output_type": "display_data"
    }
   ],
   "source": [
    "from matplotlib.patches import Wedge\n",
    "g = 9.81\n",
    "\n",
    "def CalcCatchPos(q0, v0, t_catch):\n",
    "    y_final = q0[1] + v0[1] * t_catch\n",
    "    x_final = q0[0] + v0[0] * t_catch\n",
    "    z_final = q0[2] + v0[2] * t_catch - 0.5 * g * t_catch**2\n",
    "    return np.array([x_final, y_final, z_final])\n",
    "\n",
    "def tFall(q0, v0):\n",
    "    # Solve 0 = q0[2] + v0[2] * t - 0.5 * g * t**2\n",
    "    a = -0.5 * g\n",
    "    b = v0[2]\n",
    "    c = q0[2]\n",
    "    return (-b - np.sqrt(b*b - 4*a*c)) / (2*a)\n",
    "\n",
    "q0_ball = np.array([-2, 0, 1])\n",
    "v0_ball = np.array([5, 0, 1])\n",
    "\n",
    "max_t = tFall(q0_ball, v0_ball)\n",
    "print(f'The ball is in the air for {max_t}s')\n",
    "plot_t = np.linspace(0, max_t, 50)\n",
    "plot_q = np.array([CalcCatchPos(q0_ball, v0_ball, t) for t in plot_t])\n",
    "\n",
    "fig, ax = plt.subplots()\n",
    "plt.gca().set_aspect('equal')\n",
    "ax.plot(plot_q[:,0], plot_q[:,2])\n",
    "# ax.add_patch(plt.Circle((0,0), 1, color='lightblue'))\n",
    "ax.add_patch(Wedge((0,0), 1, 0, 180, color='lightblue'))\n",
    "plt.show()"
   ]
  },
  {
   "cell_type": "markdown",
   "id": "5477d29f",
   "metadata": {},
   "source": [
    "## Run trajectory optimization to find the optimal trajectory"
   ]
  },
  {
   "cell_type": "code",
   "execution_count": 138,
   "id": "55b75b2b",
   "metadata": {},
   "outputs": [
    {
     "name": "stdout",
     "output_type": "stream",
     "text": [
      "n_q =  7\n",
      "n_v =  7\n",
      "n_x =  14\n",
      "n_u =  7\n",
      "optimal cost:  0.3168973796103696\n",
      "x_sol:  [[  0.           0.           0.          -0.          -0.\n",
      "   -0.           0.           0.          -0.           0.\n",
      "    0.          -0.          -0.          -0.        ]\n",
      " [  0.27071588   0.03400122  -0.33885097   0.16388966  -0.07244637\n",
      "   -0.11152657   0.08507531   8.45238108   1.38576895 -10.17836695\n",
      "    5.24943883  -2.11921209  -3.46047391   2.31830039]\n",
      " [  1.01616563   0.14880543  -1.0681692    0.50495531  -0.23327023\n",
      "   -0.43514189   0.29449218  14.21445638   2.01713101 -10.17551283\n",
      "    3.58714019  -2.17498717  -6.84813127   4.66417945]\n",
      " [  1.95799915   0.32502907  -1.50302821   0.51024424  -0.28615839\n",
      "   -0.99130836   0.69859465  14.68787149   3.70028805  -3.81236257\n",
      "   -3.71246096   0.40014948 -10.64236906   8.06660799]\n",
      " [  2.86410945   0.61842883  -1.67718734   0.00021976  -0.23800592\n",
      "   -1.74682527   1.24294987  14.21719497   5.82080749  -3.83759709\n",
      "  -12.63381073   0.68268703 -12.87004665   7.97841927]]\n",
      "u_sol:  [[ 84.13153187 -59.12744927 -86.16265708  63.25728751  -9.26534461\n",
      "  -11.51793804  11.40061874]\n",
      " [ 83.49019604  29.76608583 -62.41371663  55.95255708  -1.48522834\n",
      "  -11.52931912   3.96522994]\n",
      " [ 55.65540295 -55.95197835  77.249343   -52.76717662   9.26472318\n",
      "  -11.66537662  11.20842293]\n",
      " [ 14.91335213 -33.07256786  50.11676272 -61.20613065   7.58380667\n",
      "  -11.11444015  11.19756808]\n",
      " [ 78.9584407   86.71282952 -61.75642983 -18.14812405  -1.44959661\n",
      "   -9.68977538 -10.97448198]]\n",
      "t_catch:  [0.31689738]\n",
      "SolutionResult.kIterationLimit\n",
      "[[0.        ]\n",
      " [0.07922434]\n",
      " [0.15844869]\n",
      " [0.23767303]\n",
      " [0.31689738]]\n"
     ]
    }
   ],
   "source": [
    "import importlib\n",
    "import catching_trajectory\n",
    "importlib.reload(catching_trajectory)\n",
    "from catching_trajectory import find_throwing_trajectory\n",
    "\n",
    "N = 5\n",
    "initial_state = [0] * 7 + [0] * 7\n",
    "final_configuration = np.array([np.pi, 0])\n",
    "tf = 1\n",
    "distance = 15.0\n",
    "\n",
    "x_traj, u_traj, t_catch, prog, _, _ = find_throwing_trajectory(N, q0_ball, v0_ball, initial_state, final_configuration, distance)\n"
   ]
  },
  {
   "cell_type": "markdown",
   "id": "4c89b15b-7745-4775-bc61-5c6f5c776c92",
   "metadata": {},
   "source": [
    "## Validate the Solution"
   ]
  },
  {
   "cell_type": "code",
   "execution_count": 139,
   "id": "269da28c-1b75-4af1-a724-f43fd3e0e25f",
   "metadata": {},
   "outputs": [
    {
     "name": "stdout",
     "output_type": "stream",
     "text": [
      "Ball Position [-0.4155131   0.          0.82431791]\n",
      "EE Position [-0.41553107  0.00009734  0.82434987]\n"
     ]
    }
   ],
   "source": [
    "print('Ball Position', CalcCatchPos(q0_ball, v0_ball, t_catch))\n",
    "builder = DiagramBuilder()\n",
    "plant, scene_graph = AddMultibodyPlantSceneGraph(builder, 0.)\n",
    "Parser(plant).AddModels(url=\"package://drake/manipulation/models/franka_description/urdf/panda_arm.urdf\")\n",
    "plant.WeldFrames(plant.world_frame(), plant.GetFrameByName(\"panda_link0\"))\n",
    "plant.Finalize()\n",
    "\n",
    "context = plant.CreateDefaultContext()\n",
    "context.SetContinuousState(x_traj.value(t_catch))\n",
    "ee_frame = plant.GetBodyByName(\"panda_link8\").body_frame()\n",
    "ee_pos = plant.CalcPointsPositions(context, ee_frame, np.zeros(3), plant.world_frame()).ravel()\n",
    "np.set_printoptions(suppress=True)\n",
    "print('EE Position', ee_pos)"
   ]
  },
  {
   "cell_type": "markdown",
   "id": "798945d0",
   "metadata": {},
   "source": [
    "## Visualize the optimal trajectory\n",
    "\n",
    "This will animate the optimal trajectory in the meshcat window (see above)"
   ]
  },
  {
   "cell_type": "code",
   "execution_count": 168,
   "id": "07c46ccc",
   "metadata": {},
   "outputs": [],
   "source": [
    "import matplotlib.pyplot as plt\n",
    "import numpy as np\n",
    "import time\n",
    "\n",
    "from pydrake.all import (\n",
    "    DiagramBuilder, Simulator, FindResourceOrThrow, MultibodyPlant, PiecewisePolynomial, SceneGraph,\n",
    "    Parser, MultibodyPositionToGeometryPose, TrajectorySource, Demultiplexer, ConstantVectorSource,\n",
    "    AddMultibodyPlantSceneGraph\n",
    ")\n",
    "\n",
    "\n",
    "# Create a MultibodyPlant for the arm\n",
    "# file_name = \"planar_arm.urdf\"\n",
    "builder = DiagramBuilder()\n",
    "ball, scene_graph = AddMultibodyPlantSceneGraph(builder, 0.)\n",
    "# scene_graph = builder.AddSystem(SceneGraph())\n",
    "planar_arm = builder.AddSystem(MultibodyPlant(0.0))\n",
    "# planar_arm, scene_graph = AddMultibodyPlantSceneGraph(builder, 0.)\n",
    "planar_arm.RegisterAsSourceForSceneGraph(scene_graph)\n",
    "# Parser(plant=planar_arm).AddModels(file_name)\n",
    "Parser(plant=planar_arm).AddModels(url=\"package://drake/manipulation/models/franka_description/urdf/panda_arm.urdf\")\n",
    "planar_arm.WeldFrames(planar_arm.world_frame(), planar_arm.GetFrameByName(\"panda_link0\"))\n",
    "planar_arm.Finalize()\n",
    "\n",
    "# ball = builder.AddSystem(MultibodyPlant(0.0))\n",
    "Parser(plant=ball).AddModels(\"./ball.urdf\")\n",
    "ball.Finalize()\n",
    "# ball.RegisterAsSourceForSceneGraph(scene_graph)\n",
    "# builder.Connect(ball.get_geometry_poses_output_port(), scene_graph.get_source_pose_port(ball.get_source_id()))\n",
    "# builder.Connect(scene_graph.get_query_output_port(), ball.get_geometry_query_input_port())\n",
    "\n",
    "n_q = planar_arm.num_positions()\n",
    "n_v = planar_arm.num_velocities()\n",
    "n_u = planar_arm.num_actuators()\n",
    "\n",
    "x_traj_source = builder.AddSystem(TrajectorySource(x_traj))\n",
    "u_traj_source = builder.AddSystem(TrajectorySource(u_traj))\n",
    "\n",
    "demux = builder.AddSystem(Demultiplexer(np.array([n_q, n_v])))\n",
    "to_pose = builder.AddSystem(MultibodyPositionToGeometryPose(planar_arm))\n",
    "zero_inputs = builder.AddSystem(ConstantVectorSource(np.zeros(n_u)))\n",
    "\n",
    "builder.Connect(zero_inputs.get_output_port(), planar_arm.get_actuation_input_port())\n",
    "builder.Connect(x_traj_source.get_output_port(), demux.get_input_port())\n",
    "builder.Connect(demux.get_output_port(0), to_pose.get_input_port())\n",
    "builder.Connect(to_pose.get_output_port(), scene_graph.get_source_pose_port(planar_arm.get_source_id()))\n",
    "builder.Connect(scene_graph.get_query_output_port(), planar_arm.get_geometry_query_input_port())\n",
    "\n",
    "MeshcatVisualizer.AddToBuilder(builder, scene_graph, meshcat)\n",
    "\n",
    "diagram = builder.Build()\n",
    "diagram.set_name(\"diagram\")\n",
    "\n",
    "# Visualize the motion for `n_playback` times\n",
    "n_playback = 3\n",
    "for i in range(n_playback):\n",
    "  # Set up a simulator to run this diagram.\n",
    "    context = diagram.CreateDefaultContext()\n",
    "    ball.SetPositions(ball.GetMyContextFromRoot(context), [0, 0, 0, 1, *q0_ball])\n",
    "    ball.SetVelocities(ball.GetMyContextFromRoot(context), [0, 0, 0, *v0_ball])\n",
    "    simulator = Simulator(diagram, context)\n",
    "    simulator.Initialize()\n",
    "    time.sleep(1)\n",
    "    simulator.set_target_realtime_rate(0.2)\n",
    "    simulator.AdvanceTo(t_catch);\n",
    "    time.sleep(1)"
   ]
  },
  {
   "cell_type": "code",
   "execution_count": null,
   "id": "3dd75bfc-1f40-4197-84fc-0f291efed4aa",
   "metadata": {},
   "outputs": [],
   "source": []
  }
 ],
 "metadata": {
  "kernelspec": {
   "display_name": "Python 3 (ipykernel)",
   "language": "python",
   "name": "python3"
  },
  "language_info": {
   "codemirror_mode": {
    "name": "ipython",
    "version": 3
   },
   "file_extension": ".py",
   "mimetype": "text/x-python",
   "name": "python",
   "nbconvert_exporter": "python",
   "pygments_lexer": "ipython3",
   "version": "3.11.5"
  }
 },
 "nbformat": 4,
 "nbformat_minor": 5
}
