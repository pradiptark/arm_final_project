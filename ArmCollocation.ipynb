{
 "cells": [
  {
   "cell_type": "markdown",
   "metadata": {},
   "source": [
    "# Problem 4 - Trajectory Optimization for a planar arm"
   ]
  },
  {
   "cell_type": "markdown",
   "metadata": {},
   "source": [
    "## Start meshcat visualizer"
   ]
  },
  {
   "cell_type": "markdown",
   "metadata": {},
   "source": [
    "Open the visualizer by clicking on the url in the output of this cell."
   ]
  },
  {
   "cell_type": "code",
   "execution_count": 1,
   "metadata": {},
   "outputs": [
    {
     "name": "stderr",
     "output_type": "stream",
     "text": [
      "INFO:drake:Meshcat listening for connections at http://localhost:7001\n"
     ]
    }
   ],
   "source": [
    "from pydrake.all import FindResourceOrThrow, StartMeshcat, MeshcatVisualizer\n",
    "meshcat = StartMeshcat()\n"
   ]
  },
  {
   "cell_type": "markdown",
   "metadata": {},
   "source": [
    "## Compute the end effector (the ball) position and velocity using symbolic variables\n",
    "\n",
    "This is how we get the expression in `kinematic_constraints.py`"
   ]
  },
  {
   "cell_type": "code",
   "execution_count": 2,
   "metadata": {},
   "outputs": [
    {
     "name": "stdout",
     "output_type": "stream",
     "text": [
      "pos (x_ball, z_ball):\n",
      " Matrix([[-l*sin(q0) - l*sin(q0 + q1)], [-l*cos(q0) - l*cos(q0 + q1)]])\n",
      "\n",
      "vel (x_ball dot, z_ball dot):\n",
      " Matrix([[-l*qdot1*cos(q0 + q1) + qdot0*(-l*cos(q0) - l*cos(q0 + q1))], [l*qdot1*sin(q0 + q1) + qdot0*(l*sin(q0) + l*sin(q0 + q1))]])\n"
     ]
    }
   ],
   "source": [
    "# Computes the end effector velocity as xdot, ydot J_q (pos) * qdot\n",
    "\n",
    "from sympy import *\n",
    "import numpy as np\n",
    "\n",
    "l, q0, q1, qdot0, qdot1 = symbols('l q0 q1 qdot0 qdot1', real=True)\n",
    "pos = l * Matrix([-sin(q0), -cos(q0)]) + \\\n",
    "      l * Matrix([-sin(q0 + q1), -cos(q0 + q1)])\n",
    "vel = Matrix(pos).jacobian([q0, q1]) @ np.reshape(np.array([qdot0, qdot1]), (2,1))\n",
    "\n",
    "print('pos (x_ball, z_ball):\\n', pos)\n",
    "print('')\n",
    "print('vel (x_ball dot, z_ball dot):\\n', vel)"
   ]
  },
  {
   "cell_type": "markdown",
   "metadata": {},
   "source": [
    "## Run trajectory optimization to find the optimal trajectory"
   ]
  },
  {
   "cell_type": "code",
   "execution_count": 3,
   "metadata": {},
   "outputs": [
    {
     "name": "stderr",
     "output_type": "stream",
     "text": [
      "No traceback available to show.\n"
     ]
    },
    {
     "name": "stdout",
     "output_type": "stream",
     "text": [
      "n_q =  7\n",
      "n_v =  7\n",
      "n_x =  14\n",
      "n_u =  7\n",
      "initial state =  [0. 0. 0. 0. 0. 0. 0. 0. 0. 0. 0. 0. 0. 0.]\n",
      "optimal cost:  63.0625534578921\n",
      "x_sol:  [[ 0.00000000e+00  9.26449609e-16  0.00000000e+00  0.00000000e+00\n",
      "   0.00000000e+00  0.00000000e+00  0.00000000e+00  0.00000000e+00\n",
      "   0.00000000e+00  0.00000000e+00  0.00000000e+00  0.00000000e+00\n",
      "   0.00000000e+00  0.00000000e+00]\n",
      " [-1.09965959e-01  3.41860875e-01  1.96354911e-01  2.14226169e-01\n",
      "   7.71289831e-01 -8.03624507e-01 -1.24478657e-01 -2.18099971e-01\n",
      "   1.60784162e+00  7.32122273e-01  1.29376312e+00  3.09677218e+00\n",
      "   1.17689748e+00 -4.18431995e-01]\n",
      " [-9.06306487e-01  3.14159265e+00  8.64698124e-01 -7.85981733e-01\n",
      "   3.14159265e+00  2.80672628e+00 -8.57156059e-01 -8.82475673e-01\n",
      "   4.91674281e+00 -7.16215982e-01 -2.54439671e+00 -1.86238984e+00\n",
      "   2.47794659e+00 -1.67194852e+00]\n",
      " [-6.82507752e-01  3.14155931e+00 -3.87298178e-01 -6.55767852e-01\n",
      "  -3.14159265e+00 -1.78322465e-02 -3.14159265e+00  1.72450861e+00\n",
      "  -5.73301792e+00 -2.55002544e+00  2.46522185e-01 -1.09156095e+01\n",
      "  -3.96531972e+00 -4.94475443e+00]\n",
      " [ 1.63535079e+00 -3.14159265e+00 -2.70690487e+00  2.59946337e+00\n",
      "  -3.14159265e+00 -8.99894151e-01 -2.33704566e+00  1.50000000e+01\n",
      "  -9.53362241e-01  6.03149538e+00  1.50000000e+01  1.37261500e+01\n",
      "   9.49313977e+00  1.50000000e+01]]\n",
      "u_sol:  [[-1.65884510e-01 -1.31766958e+00 -2.72861644e-01 -4.33922227e+00\n",
      "  -9.64973149e-02 -1.26113337e+00 -2.80931251e-02]\n",
      " [-4.67099176e-01 -1.66557524e+00  1.52453867e+00 -2.09094944e+00\n",
      "   1.92723519e+00  3.97295582e+00 -1.61842505e-01]\n",
      " [-1.46413573e-01 -4.45421118e+00 -3.76904766e-01 -1.76025571e+00\n",
      "  -4.71091858e+00 -3.04206490e+00 -3.69315306e-01]\n",
      " [ 3.06969758e-01 -3.55663207e+00  6.53956760e-01 -2.14478828e+00\n",
      "  -5.88619537e-02 -6.48210293e-01 -1.39576851e+00]\n",
      " [ 6.43006469e+01  8.70000000e+01  2.51560349e+01  4.04991844e+01\n",
      "   1.20000000e+01  1.20000000e+01  1.20000000e+01]]\n",
      "t_catch:  3\n",
      "SolutionResult.kInfeasibleConstraints\n"
     ]
    }
   ],
   "source": [
    "import importlib\n",
    "import catching_trajectory\n",
    "importlib.reload(catching_trajectory)\n",
    "from catching_trajectory import find_throwing_trajectory\n",
    "\n",
    "N = 5\n",
    "initial_state = np.zeros(14)\n",
    "final_configuration = np.array([np.pi, 0])\n",
    "tf = 3.0\n",
    "distance = 15.0\n",
    "%tb\n",
    "x_traj, u_traj, prog, _, _ = find_throwing_trajectory(N, initial_state, final_configuration, distance, tf)\n"
   ]
  },
  {
   "cell_type": "markdown",
   "metadata": {},
   "source": [
    "## Visualize the optimal trajectory\n",
    "\n",
    "This will animate the optimal trajectory in the meshcat window (see above)"
   ]
  },
  {
   "cell_type": "code",
   "execution_count": 4,
   "metadata": {},
   "outputs": [
    {
     "ename": "RuntimeError",
     "evalue": "/home/pradiptark/Documents/UPenn/Courses/1st_Semester/MEAM_5170_Control_and_Optimization/Final_Project/arm_final_project/planar_arm.urdf:0: error: Failed to parse XML file: XML_ERROR_FILE_NOT_FOUND",
     "output_type": "error",
     "traceback": [
      "\u001b[0;31m---------------------------------------------------------------------------\u001b[0m",
      "\u001b[0;31mRuntimeError\u001b[0m                              Traceback (most recent call last)",
      "\u001b[1;32m/home/pradiptark/Documents/UPenn/Courses/1st_Semester/MEAM_5170_Control_and_Optimization/Final_Project/arm_final_project/ArmCollocation.ipynb Cell 10\u001b[0m line \u001b[0;36m1\n\u001b[1;32m     <a href='vscode-notebook-cell:/home/pradiptark/Documents/UPenn/Courses/1st_Semester/MEAM_5170_Control_and_Optimization/Final_Project/arm_final_project/ArmCollocation.ipynb#X20sZmlsZQ%3D%3D?line=14'>15</a>\u001b[0m planar_arm \u001b[39m=\u001b[39m builder\u001b[39m.\u001b[39mAddSystem(MultibodyPlant(\u001b[39m0.0\u001b[39m))\n\u001b[1;32m     <a href='vscode-notebook-cell:/home/pradiptark/Documents/UPenn/Courses/1st_Semester/MEAM_5170_Control_and_Optimization/Final_Project/arm_final_project/ArmCollocation.ipynb#X20sZmlsZQ%3D%3D?line=15'>16</a>\u001b[0m planar_arm\u001b[39m.\u001b[39mRegisterAsSourceForSceneGraph(scene_graph)\n\u001b[0;32m---> <a href='vscode-notebook-cell:/home/pradiptark/Documents/UPenn/Courses/1st_Semester/MEAM_5170_Control_and_Optimization/Final_Project/arm_final_project/ArmCollocation.ipynb#X20sZmlsZQ%3D%3D?line=16'>17</a>\u001b[0m Parser(plant\u001b[39m=\u001b[39;49mplanar_arm)\u001b[39m.\u001b[39;49mAddModels(file_name)\n\u001b[1;32m     <a href='vscode-notebook-cell:/home/pradiptark/Documents/UPenn/Courses/1st_Semester/MEAM_5170_Control_and_Optimization/Final_Project/arm_final_project/ArmCollocation.ipynb#X20sZmlsZQ%3D%3D?line=17'>18</a>\u001b[0m planar_arm\u001b[39m.\u001b[39mFinalize()\n\u001b[1;32m     <a href='vscode-notebook-cell:/home/pradiptark/Documents/UPenn/Courses/1st_Semester/MEAM_5170_Control_and_Optimization/Final_Project/arm_final_project/ArmCollocation.ipynb#X20sZmlsZQ%3D%3D?line=19'>20</a>\u001b[0m n_q \u001b[39m=\u001b[39m planar_arm\u001b[39m.\u001b[39mnum_positions()\n",
      "\u001b[0;31mRuntimeError\u001b[0m: /home/pradiptark/Documents/UPenn/Courses/1st_Semester/MEAM_5170_Control_and_Optimization/Final_Project/arm_final_project/planar_arm.urdf:0: error: Failed to parse XML file: XML_ERROR_FILE_NOT_FOUND"
     ]
    }
   ],
   "source": [
    "import matplotlib.pyplot as plt\n",
    "import numpy as np\n",
    "import time\n",
    "\n",
    "from pydrake.all import (\n",
    "    DiagramBuilder, Simulator, FindResourceOrThrow, MultibodyPlant, PiecewisePolynomial, SceneGraph,\n",
    "    Parser, MultibodyPositionToGeometryPose, TrajectorySource, Demultiplexer, ConstantVectorSource\n",
    ")\n",
    "\n",
    "\n",
    "# Create a MultibodyPlant for the arm\n",
    "file_name = \"planar_arm.urdf\"\n",
    "builder = DiagramBuilder()\n",
    "scene_graph = builder.AddSystem(SceneGraph())\n",
    "planar_arm = builder.AddSystem(MultibodyPlant(0.0))\n",
    "planar_arm.RegisterAsSourceForSceneGraph(scene_graph)\n",
    "Parser(plant=planar_arm).AddModels(file_name)\n",
    "planar_arm.Finalize()\n",
    "\n",
    "n_q = planar_arm.num_positions()\n",
    "n_v = planar_arm.num_velocities()\n",
    "n_u = planar_arm.num_actuators()\n",
    "\n",
    "\n",
    "x_traj_source = builder.AddSystem(TrajectorySource(x_traj))\n",
    "u_traj_source = builder.AddSystem(TrajectorySource(u_traj))\n",
    "\n",
    "demux = builder.AddSystem(Demultiplexer(np.array([n_q, n_v])))\n",
    "to_pose = builder.AddSystem(MultibodyPositionToGeometryPose(planar_arm))\n",
    "zero_inputs = builder.AddSystem(ConstantVectorSource(np.zeros(n_u)))\n",
    "\n",
    "builder.Connect(zero_inputs.get_output_port(), planar_arm.get_actuation_input_port())\n",
    "builder.Connect(x_traj_source.get_output_port(), demux.get_input_port())\n",
    "builder.Connect(demux.get_output_port(0), to_pose.get_input_port())\n",
    "builder.Connect(to_pose.get_output_port(), scene_graph.get_source_pose_port(planar_arm.get_source_id()))\n",
    "\n",
    "MeshcatVisualizer.AddToBuilder(builder, scene_graph, meshcat)\n",
    "\n",
    "diagram = builder.Build()\n",
    "diagram.set_name(\"diagram\")\n",
    "\n",
    "\n",
    "# Visualize the motion for `n_playback` times\n",
    "n_playback = 3\n",
    "for i in range(n_playback):\n",
    "  # Set up a simulator to run this diagram.\n",
    "  simulator = Simulator(diagram)\n",
    "  simulator.Initialize()\n",
    "  simulator.set_target_realtime_rate(1)\n",
    "  simulator.AdvanceTo(tf);\n",
    "  time.sleep(2)"
   ]
  },
  {
   "cell_type": "markdown",
   "metadata": {},
   "source": [
    "<a style='text-decoration:none;line-height:16px;display:flex;color:#5B5B62;padding:10px;justify-content:end;' href='https://deepnote.com?utm_source=created-in-deepnote-cell&projectId=a1190e5b-e06e-41db-a057-2e4bd9ffdb07' target=\"_blank\">\n",
    "<img alt='Created in deepnote.com' style='display:inline;max-height:16px;margin:0px;margin-right:7.5px;' src='data:image/svg+xml;base64,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' > </img>\n",
    "Created in <span style='font-weight:600;margin-left:4px;'>Deepnote</span></a>"
   ]
  }
 ],
 "metadata": {
  "kernelspec": {
   "display_name": "Python 3 (ipykernel)",
   "language": "python",
   "name": "python3"
  },
  "language_info": {
   "codemirror_mode": {
    "name": "ipython",
    "version": 3
   },
   "file_extension": ".py",
   "mimetype": "text/x-python",
   "name": "python",
   "nbconvert_exporter": "python",
   "pygments_lexer": "ipython3",
   "version": "3.8.10"
  }
 },
 "nbformat": 4,
 "nbformat_minor": 5
}
