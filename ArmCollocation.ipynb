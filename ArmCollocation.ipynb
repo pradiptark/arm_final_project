{
 "cells": [
  {
   "cell_type": "markdown",
   "id": "fa327672",
   "metadata": {},
   "source": [
    "# Problem 4 - Trajectory Optimization for a planar arm"
   ]
  },
  {
   "cell_type": "markdown",
   "id": "e6f14b28",
   "metadata": {},
   "source": [
    "## Start meshcat visualizer"
   ]
  },
  {
   "cell_type": "markdown",
   "id": "12b17ca9",
   "metadata": {},
   "source": [
    "Open the visualizer by clicking on the url in the output of this cell."
   ]
  },
  {
   "cell_type": "code",
   "execution_count": 1,
   "id": "f27a21e3",
   "metadata": {},
   "outputs": [
    {
     "name": "stderr",
     "output_type": "stream",
     "text": [
      "INFO:drake:Meshcat listening for connections at http://localhost:7000\n"
     ]
    }
   ],
   "source": [
    "from pydrake.all import FindResourceOrThrow, StartMeshcat, MeshcatVisualizer\n",
    "meshcat = StartMeshcat()"
   ]
  },
  {
   "cell_type": "markdown",
   "id": "3aea6085",
   "metadata": {},
   "source": [
    "## Compute the end effector (the ball) position and velocity using symbolic variables\n",
    "\n",
    "This is how we get the expression in `kinematic_constraints.py`"
   ]
  },
  {
   "cell_type": "code",
   "execution_count": 23,
   "id": "95f845b8",
   "metadata": {},
   "outputs": [
    {
     "name": "stdout",
     "output_type": "stream",
     "text": [
      "pos (x_ball, z_ball):\n",
      " Matrix([[-l*sin(q0) - l*sin(q0 + q1)], [-l*cos(q0) - l*cos(q0 + q1)]])\n",
      "\n",
      "vel (x_ball dot, z_ball dot):\n",
      " Matrix([[-l*qdot1*cos(q0 + q1) + qdot0*(-l*cos(q0) - l*cos(q0 + q1))], [l*qdot1*sin(q0 + q1) + qdot0*(l*sin(q0) + l*sin(q0 + q1))]])\n"
     ]
    }
   ],
   "source": [
    "# Computes the end effector velocity as xdot, ydot J_q (pos) * qdot\n",
    "\n",
    "from sympy import *\n",
    "import numpy as np\n",
    "\n",
    "l, q0, q1, qdot0, qdot1 = symbols('l q0 q1 qdot0 qdot1', real=True)\n",
    "pos = l * Matrix([-sin(q0), -cos(q0)]) + \\\n",
    "      l * Matrix([-sin(q0 + q1), -cos(q0 + q1)])\n",
    "vel = Matrix(pos).jacobian([q0, q1]) @ np.reshape(np.array([qdot0, qdot1]), (2,1))\n",
    "\n",
    "print('pos (x_ball, z_ball):\\n', pos)\n",
    "print('')\n",
    "print('vel (x_ball dot, z_ball dot):\\n', vel)"
   ]
  },
  {
   "cell_type": "markdown",
   "id": "2de86ba4-1bde-4bd7-b42a-ac7705cf30bd",
   "metadata": {},
   "source": [
    "## Set up Ball Trajectory"
   ]
  },
  {
   "cell_type": "code",
   "execution_count": 228,
   "id": "b9437bc6-aaa7-46b3-a906-fc45067a3e7a",
   "metadata": {},
   "outputs": [
    {
     "name": "stdout",
     "output_type": "stream",
     "text": [
      "The ball is in the air for 0.6992906373179558s\n"
     ]
    },
    {
     "data": {
      "image/png": "[encoded data removed]",
      "text/plain": [
       "<Figure size 640x480 with 1 Axes>"
      ]
     },
     "metadata": {},
     "output_type": "display_data"
    }
   ],
   "source": [
    "from matplotlib.patches import Wedge\n",
    "g = 9.81\n",
    "\n",
    "def CalcCatchPos(q0, v0, t_catch):\n",
    "    y_final = q0[1] + v0[1] * t_catch\n",
    "    x_final = q0[0] + v0[0] * t_catch\n",
    "    z_final = q0[2] + v0[2] * t_catch - 0.5 * g * t_catch**2\n",
    "    return np.array([x_final, y_final, z_final])\n",
    "\n",
    "def tFall(q0, v0):\n",
    "    # Solve 0 = q0[2] + v0[2] * t - 0.5 * g * t**2\n",
    "    a = -0.5 * g\n",
    "    b = v0[2]\n",
    "    c = q0[2]\n",
    "    return (-b - np.sqrt(b*b - 4*a*c)) / (2*a)\n",
    "\n",
    "q0_ball = np.array([-6, 0, 1])\n",
    "v0_ball = np.array([10, 0, 2])\n",
    "\n",
    "max_t = tFall(q0_ball, v0_ball)\n",
    "print(f'The ball is in the air for {max_t}s')\n",
    "plot_t = np.linspace(0, max_t, 50)\n",
    "plot_q = np.array([CalcCatchPos(q0_ball, v0_ball, t) for t in plot_t])\n",
    "\n",
    "fig, ax = plt.subplots()\n",
    "plt.gca().set_aspect('equal')\n",
    "ax.plot(plot_q[:,0], plot_q[:,2])\n",
    "# ax.add_patch(plt.Circle((0,0), 1, color='lightblue'))\n",
    "ax.add_patch(Wedge((0,0), 1, 0, 180, color='lightblue'))\n",
    "plt.show()"
   ]
  },
  {
   "cell_type": "markdown",
   "id": "5477d29f",
   "metadata": {},
   "source": [
    "## Run trajectory optimization to find the optimal trajectory"
   ]
  },
  {
   "cell_type": "code",
   "execution_count": 229,
   "id": "55b75b2b",
   "metadata": {},
   "outputs": [
    {
     "name": "stdout",
     "output_type": "stream",
     "text": [
      "n_q =  7\n",
      "n_v =  7\n",
      "n_x =  14\n",
      "n_u =  7\n",
      "[87. 87. 87. 87. 12. 12. 12.]\n",
      "[2.175 2.175 2.175 2.175 2.61  2.61  2.61 ]\n",
      "Solver is  SNOPT\n",
      "optimal cost:  74471.19639257673\n",
      "x_sol:  [[ 0.         -0.         -0.         -0.5         0.          0.\n",
      "   0.          0.         -0.          0.          0.         -0.\n",
      "  -0.          0.        ]\n",
      " [-0.03294416 -0.21731715  0.32290593 -0.84759207  0.12592026  0.2098927\n",
      "   0.09531235  2.175      -2.175       2.175      -2.175       2.61\n",
      "   2.61        2.61      ]\n",
      " [ 0.40455293 -0.40674358  0.48389941 -0.89704615  0.47503735  0.44657695\n",
      "   0.47160832  2.175      -2.175       2.175      -0.96866821  2.61\n",
      "   1.64811251  2.31228481]\n",
      " [ 0.49216335 -0.69601225  0.74572984 -1.0547552   0.71399159  0.46812251\n",
      "   0.63215916  2.175      -2.175       2.175      -0.67864241  2.61\n",
      "  -2.08901566  2.61      ]\n",
      " [ 0.82763432 -0.90609114  0.9971936  -1.14145233  1.05470784  0.13976369\n",
      "   1.03947429  2.175      -2.175       2.175      -2.175       2.61\n",
      "  -1.85232188  2.61      ]]\n",
      "u_sol:  [[ -8.90633238 -87.          87.         -58.85638512   8.01514547\n",
      "   12.          -0.36154429]\n",
      " [ 69.52896401 -50.72239273 -32.17017104  87.          12.\n",
      "   -1.21673629   9.89620203]\n",
      " [-67.68813595  -0.9883132    7.3234783  -31.95882715  -8.7575085\n",
      "   -2.67510156 -10.70325709]\n",
      " [ 87.           7.03696697 -24.69728577  52.26210263  10.61777834\n",
      "  -12.          12.        ]\n",
      " [-86.51355578  58.91148776 -19.91430042 -67.15658279 -11.07616772\n",
      "   12.         -11.7748085 ]]\n",
      "t_catch:  [0.55546419]\n",
      "SolutionResult.kInfeasibleConstraints\n",
      "[[0.        ]\n",
      " [0.13886605]\n",
      " [0.27773209]\n",
      " [0.41659814]\n",
      " [0.55546419]]\n"
     ]
    }
   ],
   "source": [
    "import importlib\n",
    "import catching_trajectory\n",
    "importlib.reload(catching_trajectory)\n",
    "from catching_trajectory import find_throwing_trajectory\n",
    "\n",
    "N = 5\n",
    "initial_state = [0, 0, 0, -0.5, 0, 0, 0] + [0] * 7\n",
    "final_configuration = np.array([np.pi, 0])\n",
    "tf = 1\n",
    "distance = 15.0\n",
    "\n",
    "x_traj, u_traj, t_catch, prog, _, _ = find_throwing_trajectory(N, q0_ball, v0_ball, initial_state, final_configuration, distance)\n"
   ]
  },
  {
   "cell_type": "markdown",
   "id": "4c89b15b-7745-4775-bc61-5c6f5c776c92",
   "metadata": {},
   "source": [
    "## Validate the Solution"
   ]
  },
  {
   "cell_type": "code",
   "execution_count": 230,
   "id": "269da28c-1b75-4af1-a724-f43fd3e0e25f",
   "metadata": {},
   "outputs": [
    {
     "name": "stdout",
     "output_type": "stream",
     "text": [
      "Ball Position [-0.44535814  0.          0.59753741]\n",
      "EE Position [-0.4453583  -0.0000004   0.70407069]\n"
     ]
    },
    {
     "name": "stderr",
     "output_type": "stream",
     "text": [
      "/var/folders/5t/0kxy2vx919lgwxxs0m5q271h0000gn/T/ipykernel_1625/2628686991.py:9: DeprecationWarning: Conversion of an array with ndim > 0 to a scalar is deprecated, and will error in future. Ensure you extract a single element from your array before performing this operation. (Deprecated NumPy 1.25.)\n",
      "  context.SetContinuousState(x_traj.value(t_catch))\n"
     ]
    }
   ],
   "source": [
    "print('Ball Position', CalcCatchPos(q0_ball, v0_ball, t_catch).ravel())\n",
    "builder = DiagramBuilder()\n",
    "plant, scene_graph = AddMultibodyPlantSceneGraph(builder, 0.)\n",
    "Parser(plant).AddModels(url=\"package://drake/manipulation/models/franka_description/urdf/panda_arm.urdf\")\n",
    "plant.WeldFrames(plant.world_frame(), plant.GetFrameByName(\"panda_link0\"))\n",
    "plant.Finalize()\n",
    "\n",
    "context = plant.CreateDefaultContext()\n",
    "context.SetContinuousState(x_traj.value(t_catch))\n",
    "ee_frame = plant.GetBodyByName(\"panda_link8\").body_frame()\n",
    "ee_pos = plant.CalcPointsPositions(context, ee_frame, np.zeros(3), plant.world_frame()).ravel()\n",
    "np.set_printoptions(suppress=True)\n",
    "print('EE Position', ee_pos)"
   ]
  },
  {
   "cell_type": "markdown",
   "id": "798945d0",
   "metadata": {},
   "source": [
    "## Visualize the optimal trajectory\n",
    "\n",
    "This will animate the optimal trajectory in the meshcat window (see above)"
   ]
  },
  {
   "cell_type": "code",
   "execution_count": 231,
   "id": "07c46ccc",
   "metadata": {},
   "outputs": [
    {
     "name": "stderr",
     "output_type": "stream",
     "text": [
      "/var/folders/5t/0kxy2vx919lgwxxs0m5q271h0000gn/T/ipykernel_1625/775774928.py:65: DeprecationWarning: Conversion of an array with ndim > 0 to a scalar is deprecated, and will error in future. Ensure you extract a single element from your array before performing this operation. (Deprecated NumPy 1.25.)\n",
      "  simulator.AdvanceTo(t_catch);\n"
     ]
    }
   ],
   "source": [
    "import matplotlib.pyplot as plt\n",
    "import numpy as np\n",
    "import time\n",
    "\n",
    "from pydrake.all import (\n",
    "    DiagramBuilder, Simulator, FindResourceOrThrow, MultibodyPlant, PiecewisePolynomial, SceneGraph,\n",
    "    Parser, MultibodyPositionToGeometryPose, TrajectorySource, Demultiplexer, ConstantVectorSource,\n",
    "    AddMultibodyPlantSceneGraph\n",
    ")\n",
    "\n",
    "\n",
    "# Create a MultibodyPlant for the arm\n",
    "# file_name = \"planar_arm.urdf\"\n",
    "builder = DiagramBuilder()\n",
    "ball, scene_graph = AddMultibodyPlantSceneGraph(builder, 0.)\n",
    "# scene_graph = builder.AddSystem(SceneGraph())\n",
    "planar_arm = builder.AddSystem(MultibodyPlant(0.0))\n",
    "# planar_arm, scene_graph = AddMultibodyPlantSceneGraph(builder, 0.)\n",
    "planar_arm.RegisterAsSourceForSceneGraph(scene_graph)\n",
    "# Parser(plant=planar_arm).AddModels(file_name)\n",
    "Parser(plant=planar_arm).AddModels(url=\"package://drake/manipulation/models/franka_description/urdf/panda_arm.urdf\")\n",
    "planar_arm.WeldFrames(planar_arm.world_frame(), planar_arm.GetFrameByName(\"panda_link0\"))\n",
    "planar_arm.Finalize()\n",
    "\n",
    "# ball = builder.AddSystem(MultibodyPlant(0.0))\n",
    "Parser(plant=ball).AddModels(\"./ball.urdf\")\n",
    "ball.Finalize()\n",
    "# ball.RegisterAsSourceForSceneGraph(scene_graph)\n",
    "# builder.Connect(ball.get_geometry_poses_output_port(), scene_graph.get_source_pose_port(ball.get_source_id()))\n",
    "# builder.Connect(scene_graph.get_query_output_port(), ball.get_geometry_query_input_port())\n",
    "\n",
    "n_q = planar_arm.num_positions()\n",
    "n_v = planar_arm.num_velocities()\n",
    "n_u = planar_arm.num_actuators()\n",
    "\n",
    "x_traj_source = builder.AddSystem(TrajectorySource(x_traj))\n",
    "u_traj_source = builder.AddSystem(TrajectorySource(u_traj))\n",
    "\n",
    "demux = builder.AddSystem(Demultiplexer(np.array([n_q, n_v])))\n",
    "to_pose = builder.AddSystem(MultibodyPositionToGeometryPose(planar_arm))\n",
    "zero_inputs = builder.AddSystem(ConstantVectorSource(np.zeros(n_u)))\n",
    "\n",
    "builder.Connect(zero_inputs.get_output_port(), planar_arm.get_actuation_input_port())\n",
    "builder.Connect(x_traj_source.get_output_port(), demux.get_input_port())\n",
    "builder.Connect(demux.get_output_port(0), to_pose.get_input_port())\n",
    "builder.Connect(to_pose.get_output_port(), scene_graph.get_source_pose_port(planar_arm.get_source_id()))\n",
    "builder.Connect(scene_graph.get_query_output_port(), planar_arm.get_geometry_query_input_port())\n",
    "\n",
    "MeshcatVisualizer.AddToBuilder(builder, scene_graph, meshcat)\n",
    "\n",
    "diagram = builder.Build()\n",
    "diagram.set_name(\"diagram\")\n",
    "\n",
    "# Visualize the motion for `n_playback` times\n",
    "n_playback = 3\n",
    "for i in range(n_playback):\n",
    "  # Set up a simulator to run this diagram.\n",
    "    context = diagram.CreateDefaultContext()\n",
    "    ball.SetPositions(ball.GetMyContextFromRoot(context), [0, 0, 0, 1, *q0_ball])\n",
    "    ball.SetVelocities(ball.GetMyContextFromRoot(context), [0, 0, 0, *v0_ball])\n",
    "    simulator = Simulator(diagram, context)\n",
    "    simulator.Initialize()\n",
    "    time.sleep(1)\n",
    "    simulator.set_target_realtime_rate(0.2)\n",
    "    simulator.AdvanceTo(t_catch);\n",
    "    time.sleep(1)"
   ]
  },
  {
   "cell_type": "code",
   "execution_count": null,
   "id": "3dd75bfc-1f40-4197-84fc-0f291efed4aa",
   "metadata": {},
   "outputs": [],
   "source": []
  }
 ],
 "metadata": {
  "kernelspec": {
   "display_name": "Python 3 (ipykernel)",
   "language": "python",
   "name": "python3"
  },
  "language_info": {
   "codemirror_mode": {
    "name": "ipython",
    "version": 3
   },
   "file_extension": ".py",
   "mimetype": "text/x-python",
   "name": "python",
   "nbconvert_exporter": "python",
   "pygments_lexer": "ipython3",
   "version": "3.11.5"
  }
 },
 "nbformat": 4,
 "nbformat_minor": 5
}
