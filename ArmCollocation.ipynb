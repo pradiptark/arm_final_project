{
 "cells": [
  {
   "cell_type": "markdown",
   "id": "fa327672",
   "metadata": {},
   "source": [
    "# Problem 4 - Trajectory Optimization for a planar arm"
   ]
  },
  {
   "cell_type": "markdown",
   "id": "e6f14b28",
   "metadata": {},
   "source": [
    "## Start meshcat visualizer"
   ]
  },
  {
   "cell_type": "markdown",
   "id": "12b17ca9",
   "metadata": {},
   "source": [
    "Open the visualizer by clicking on the url in the output of this cell."
   ]
  },
  {
   "cell_type": "code",
   "execution_count": 26,
   "metadata": {},
   "outputs": [],
   "source": [
    "import numpy as np\n",
    "from IPython.display import HTML, SVG, display\n",
    "from matplotlib import pyplot as plt\n",
    "from tqdm import tqdm\n",
    "import sys\n",
    "import pydot\n",
    "\n",
    "from pydrake.multibody.parsing import Parser\n",
    "from pydrake.multibody.plant import AddMultibodyPlantSceneGraph\n",
    "from pydrake.systems.analysis import Simulator\n",
    "from pydrake.systems.framework import DiagramBuilder, LeafSystem\n",
    "from pydrake.systems.planar_scenegraph_visualizer import ConnectPlanarSceneGraphVisualizer\n",
    "from pydrake.systems.primitives import LogVectorOutput, WrapToSystem\n",
    "from pydrake.all import StartMeshcat, MeshcatVisualizer, MeshcatVisualizerParams"
   ]
  },
  {
   "cell_type": "code",
   "execution_count": 27,
   "id": "f27a21e3",
   "metadata": {},
   "outputs": [
    {
     "name": "stderr",
     "output_type": "stream",
     "text": [
      "INFO:drake:Meshcat listening for connections at http://localhost:7000\n"
     ]
    }
   ],
   "source": [
    "from pydrake.all import FindResourceOrThrow, StartMeshcat, MeshcatVisualizer\n",
    "meshcat = StartMeshcat()"
   ]
  },
  {
   "cell_type": "markdown",
   "id": "3aea6085",
   "metadata": {},
   "source": [
    "## Compute the end effector (the ball) position and velocity using symbolic variables\n",
    "\n",
    "This is how we get the expression in `kinematic_constraints.py`"
   ]
  },
  {
   "cell_type": "code",
   "execution_count": 28,
   "id": "95f845b8",
   "metadata": {},
   "outputs": [
    {
     "name": "stdout",
     "output_type": "stream",
     "text": [
      "pos (x_ball, z_ball):\n",
      " Matrix([[-l*sin(q0) - l*sin(q0 + q1)], [-l*cos(q0) - l*cos(q0 + q1)]])\n",
      "\n",
      "vel (x_ball dot, z_ball dot):\n",
      " Matrix([[-l*qdot1*cos(q0 + q1) + qdot0*(-l*cos(q0) - l*cos(q0 + q1))], [l*qdot1*sin(q0 + q1) + qdot0*(l*sin(q0) + l*sin(q0 + q1))]])\n"
     ]
    }
   ],
   "source": [
    "# Computes the end effector velocity as xdot, ydot J_q (pos) * qdot\n",
    "\n",
    "from sympy import *\n",
    "import numpy as np\n",
    "\n",
    "l, q0, q1, qdot0, qdot1 = symbols('l q0 q1 qdot0 qdot1', real=True)\n",
    "pos = l * Matrix([-sin(q0), -cos(q0)]) + \\\n",
    "      l * Matrix([-sin(q0 + q1), -cos(q0 + q1)])\n",
    "vel = Matrix(pos).jacobian([q0, q1]) @ np.reshape(np.array([qdot0, qdot1]), (2,1))\n",
    "\n",
    "print('pos (x_ball, z_ball):\\n', pos)\n",
    "print('')\n",
    "print('vel (x_ball dot, z_ball dot):\\n', vel)"
   ]
  },
  {
   "cell_type": "markdown",
   "id": "2de86ba4-1bde-4bd7-b42a-ac7705cf30bd",
   "metadata": {},
   "source": [
    "## Set up Ball Trajectory"
   ]
  },
  {
   "cell_type": "code",
   "execution_count": 29,
   "id": "b9437bc6-aaa7-46b3-a906-fc45067a3e7a",
   "metadata": {},
   "outputs": [
    {
     "name": "stdout",
     "output_type": "stream",
     "text": [
      "The ball is in the air for 0.7932587370223757s\n"
     ]
    },
    {
     "data": {
      "image/png": "[encoded data removed]",
      "text/plain": [
       "<Figure size 640x480 with 1 Axes>"
      ]
     },
     "metadata": {},
     "output_type": "display_data"
    }
   ],
   "source": [
    "from matplotlib.patches import Wedge\n",
    "\n",
    "g = 9.81\n",
    "\n",
    "def CalcCatchPos(q0, v0, t_catch):\n",
    "    y_final = q0[1] + v0[1] * t_catch\n",
    "    x_final = q0[0] + v0[0] * t_catch\n",
    "    z_final = q0[2] + v0[2] * t_catch - 0.5 * g * t_catch**2\n",
    "    return np.array([x_final, y_final, z_final])\n",
    "\n",
    "def tFall(q0, v0):\n",
    "    # Solve 0 = q0[2] + v0[2] * t - 0.5 * g * t**2\n",
    "    a = -0.5 * g\n",
    "    b = v0[2]\n",
    "    c = q0[2]\n",
    "    return (-b - np.sqrt(b*b - 4*a*c)) / (2*a)\n",
    "\n",
    "q0_ball = np.array([-6, 0, 1.5])\n",
    "v0_ball = np.array([10, 0, 2])\n",
    "\n",
    "max_t = tFall(q0_ball, v0_ball)\n",
    "print(f'The ball is in the air for {max_t}s')\n",
    "plot_t = np.linspace(0, max_t, 50)\n",
    "plot_q = np.array([CalcCatchPos(q0_ball, v0_ball, t) for t in plot_t])\n",
    "\n",
    "fig, ax = plt.subplots()\n",
    "plt.gca().set_aspect('equal')\n",
    "ax.plot(plot_q[:,0], plot_q[:,2])\n",
    "# ax.add_patch(plt.Circle((0,0), 1, color='lightblue'))\n",
    "ax.add_patch(Wedge((0,0), 1, 0, 180, color='lightblue'))\n",
    "plt.show()"
   ]
  },
  {
   "cell_type": "markdown",
   "id": "5477d29f",
   "metadata": {},
   "source": [
    "## Run trajectory optimization to find the optimal trajectory"
   ]
  },
  {
   "cell_type": "code",
   "execution_count": 30,
   "id": "55b75b2b",
   "metadata": {},
   "outputs": [
    {
     "name": "stdout",
     "output_type": "stream",
     "text": [
      "n_q =  7\n",
      "n_v =  7\n",
      "n_x =  14\n",
      "n_u =  7\n",
      "[87. 87. 87. 87. 12. 12. 12.]\n",
      "[2.175 2.175 2.175 2.175 2.61  2.61  2.61 ]\n",
      "pos cur = \n",
      " [[ 1.00000000e+00  8.76127625e-11 -7.96608519e-11  2.00000000e-01]\n",
      " [ 8.76127855e-11 -1.00000000e+00  2.34955693e-11  1.26832477e-12]\n",
      " [-7.96608639e-11 -2.34955529e-11 -1.00000000e+00  8.00000000e-01]\n",
      " [ 0.00000000e+00  0.00000000e+00  0.00000000e+00  1.00000000e+00]]\n",
      "Solution is valid\n"
     ]
    },
    {
     "name": "stdout",
     "output_type": "stream",
     "text": [
      "Solver is  SNOPT\n",
      "optimal cost:  19.33606365768994\n",
      "x_sol:  [[ 0.00000000e+00  0.00000000e+00  0.00000000e+00 -5.00000000e-01\n",
      "   0.00000000e+00  0.00000000e+00  0.00000000e+00  0.00000000e+00\n",
      "   0.00000000e+00  0.00000000e+00  0.00000000e+00  0.00000000e+00\n",
      "   0.00000000e+00  0.00000000e+00]\n",
      " [ 9.41891782e-03  2.78357846e-02  1.88455263e-03 -4.98238516e-01\n",
      "  -5.43755896e-02  2.37134349e-02 -1.18264904e-03  1.40193505e-01\n",
      "   4.36735748e-01  2.75201247e-02  1.78291920e-02 -8.16021773e-01\n",
      "   3.35346344e-01 -1.83640227e-02]\n",
      " [ 3.43902207e-02  1.18041585e-01  6.11070114e-03 -4.98250526e-01\n",
      "  -2.04244538e-01  7.73158149e-02 -4.74082619e-03  2.32727820e-01\n",
      "   9.79530584e-01  3.17182133e-02 -3.05858088e-02 -1.45239504e+00\n",
      "   4.46046864e-01 -3.60348257e-02]\n",
      " [ 6.66167445e-02  2.92438372e-01  8.27422740e-03 -5.08790780e-01\n",
      "  -4.23946623e-01  1.34694941e-01 -1.04554579e-02  2.50728795e-01\n",
      "   1.75662337e+00 -5.23216086e-03 -1.37647717e-01 -1.90827536e+00\n",
      "   4.47221816e-01 -5.15882748e-02]\n",
      " [ 1.91574529e-01  5.54344471e-01 -9.18597795e-02 -4.26169927e-01\n",
      "  -7.13854103e-01  2.89204677e-01 -1.28147751e-01  2.17500000e+00\n",
      "   2.07734707e+00 -2.17500000e+00  2.17500000e+00 -2.61000000e+00\n",
      "   2.61000000e+00 -2.61000000e+00]]\n",
      "u_sol:  [[ 4.52819162e-01 -7.65825415e-01 -1.73679116e-01  1.09190468e+00\n",
      "  -1.11267157e+00  1.83304113e+00 -7.38325875e-03]\n",
      " [ 3.63002961e-01 -5.51611683e-01 -1.38338389e-01  7.78914189e-01\n",
      "  -9.30929886e-01  1.50918332e+00 -1.04325581e-02]\n",
      " [ 2.19644006e-01 -3.15439908e-01 -8.90875458e-02  4.23164485e-01\n",
      "  -6.10972188e-01  9.59881597e-01 -9.74315203e-03]\n",
      " [ 1.59913515e-01 -3.05674165e-01 -7.54472140e-02  3.13265002e-01\n",
      "  -5.02616463e-01  7.59536558e-01 -9.02710473e-03]\n",
      " [ 4.90182149e+01 -8.70000000e+01 -3.41122200e+00  5.58336033e+01\n",
      "   7.17692735e-01  8.30837414e+00 -7.93178836e+00]]\n",
      "t_catch:  [0.64959991]\n",
      "SolutionResult.kSolutionFound\n",
      "[[0.        ]\n",
      " [0.16239998]\n",
      " [0.32479995]\n",
      " [0.48719993]\n",
      " [0.64959991]]\n"
     ]
    }
   ],
   "source": [
    "import importlib\n",
    "import catching_trajectory\n",
    "importlib.reload(catching_trajectory)\n",
    "from catching_trajectory import find_throwing_trajectory\n",
    "\n",
    "N = 5\n",
    "initial_state = [0, 0, 0, -0.5, 0, 0, 0] + [0] * 7\n",
    "final_configuration = np.array([np.pi, 0])\n",
    "tf = 1\n",
    "distance = 15.0\n",
    "\n",
    "x_traj, u_traj, t_catch, prog, _, _ = find_throwing_trajectory(N, q0_ball, v0_ball, initial_state, final_configuration, distance)\n"
   ]
  },
  {
   "cell_type": "markdown",
   "id": "4c89b15b-7745-4775-bc61-5c6f5c776c92",
   "metadata": {},
   "source": [
    "## Validate the Solution"
   ]
  },
  {
   "cell_type": "code",
   "execution_count": 31,
   "id": "269da28c-1b75-4af1-a724-f43fd3e0e25f",
   "metadata": {},
   "outputs": [
    {
     "name": "stdout",
     "output_type": "stream",
     "text": [
      "Ball Position [0.49599908 0.         0.72938772]\n",
      "EE Position [0.49599908 0.         0.72938772]\n"
     ]
    }
   ],
   "source": [
    "print('Ball Position', CalcCatchPos(q0_ball, v0_ball, t_catch).ravel())\n",
    "builder = DiagramBuilder()\n",
    "plant, scene_graph = AddMultibodyPlantSceneGraph(builder, 0.)\n",
    "Parser(plant).AddModels(url=\"package://drake/manipulation/models/franka_description/urdf/panda_arm.urdf\")\n",
    "plant.WeldFrames(plant.world_frame(), plant.GetFrameByName(\"panda_link0\"))\n",
    "plant.Finalize()\n",
    "\n",
    "context = plant.CreateDefaultContext()\n",
    "context.SetContinuousState(x_traj.value(t_catch))\n",
    "ee_frame = plant.GetBodyByName(\"panda_link8\").body_frame()\n",
    "ee_pos = plant.CalcPointsPositions(context, ee_frame, np.zeros(3), plant.world_frame()).ravel()\n",
    "np.set_printoptions(suppress=True)\n",
    "print('EE Position', ee_pos)"
   ]
  },
  {
   "cell_type": "markdown",
   "id": "798945d0",
   "metadata": {},
   "source": [
    "## Visualize the optimal trajectory\n",
    "\n",
    "This will animate the optimal trajectory in the meshcat window (see above)"
   ]
  },
  {
   "cell_type": "code",
   "execution_count": 33,
   "id": "07c46ccc",
   "metadata": {},
   "outputs": [],
   "source": [
    "import matplotlib.pyplot as plt\n",
    "import numpy as np\n",
    "import time\n",
    "\n",
    "from pydrake.all import (\n",
    "    DiagramBuilder, Simulator, FindResourceOrThrow, MultibodyPlant, PiecewisePolynomial, SceneGraph,\n",
    "    Parser, MultibodyPositionToGeometryPose, TrajectorySource, Demultiplexer, ConstantVectorSource,\n",
    "    AddMultibodyPlantSceneGraph\n",
    ")\n",
    "\n",
    "\n",
    "# Create a MultibodyPlant for the arm\n",
    "# file_name = \"planar_arm.urdf\"\n",
    "builder = DiagramBuilder()\n",
    "ball, scene_graph = AddMultibodyPlantSceneGraph(builder, 0.)\n",
    "# scene_graph = builder.AddSystem(SceneGraph())\n",
    "planar_arm = builder.AddSystem(MultibodyPlant(0.0))\n",
    "# planar_arm, scene_graph = AddMultibodyPlantSceneGraph(builder, 0.)\n",
    "planar_arm.RegisterAsSourceForSceneGraph(scene_graph)\n",
    "# Parser(plant=planar_arm).AddModels(file_name)\n",
    "Parser(plant=planar_arm).AddModels(url=\"package://drake/manipulation/models/franka_description/urdf/panda_arm.urdf\")\n",
    "planar_arm.WeldFrames(planar_arm.world_frame(), planar_arm.GetFrameByName(\"panda_link0\"))\n",
    "planar_arm.Finalize()\n",
    "\n",
    "# ball = builder.AddSystem(MultibodyPlant(0.0))\n",
    "Parser(plant=ball).AddModels(\"./ball.urdf\")\n",
    "ball.Finalize()\n",
    "# ball.RegisterAsSourceForSceneGraph(scene_graph)\n",
    "# builder.Connect(ball.get_geometry_poses_output_port(), scene_graph.get_source_pose_port(ball.get_source_id()))\n",
    "# builder.Connect(scene_graph.get_query_output_port(), ball.get_geometry_query_input_port())\n",
    "\n",
    "n_q = planar_arm.num_positions()\n",
    "n_v = planar_arm.num_velocities()\n",
    "n_u = planar_arm.num_actuators()\n",
    "\n",
    "x_traj_source = builder.AddSystem(TrajectorySource(x_traj))\n",
    "u_traj_source = builder.AddSystem(TrajectorySource(u_traj))\n",
    "\n",
    "demux = builder.AddSystem(Demultiplexer(np.array([n_q, n_v])))\n",
    "to_pose = builder.AddSystem(MultibodyPositionToGeometryPose(planar_arm))\n",
    "zero_inputs = builder.AddSystem(ConstantVectorSource(np.zeros(n_u)))\n",
    "\n",
    "builder.Connect(zero_inputs.get_output_port(), planar_arm.get_actuation_input_port())\n",
    "builder.Connect(x_traj_source.get_output_port(), demux.get_input_port())\n",
    "builder.Connect(demux.get_output_port(0), to_pose.get_input_port())\n",
    "builder.Connect(to_pose.get_output_port(), scene_graph.get_source_pose_port(planar_arm.get_source_id()))\n",
    "builder.Connect(scene_graph.get_query_output_port(), planar_arm.get_geometry_query_input_port())\n",
    "\n",
    "MeshcatVisualizer.AddToBuilder(builder, scene_graph, meshcat)\n",
    "\n",
    "diagram = builder.Build()\n",
    "diagram.set_name(\"diagram\")\n",
    "\n",
    "# Visualize the motion for `n_playback` times\n",
    "n_playback = 3\n",
    "for i in range(n_playback):\n",
    "  # Set up a simulator to run this diagram.\n",
    "    context = diagram.CreateDefaultContext()\n",
    "    ball.SetPositions(ball.GetMyContextFromRoot(context), [0, 0, 0, 1, *q0_ball])\n",
    "    ball.SetVelocities(ball.GetMyContextFromRoot(context), [0, 0, 0, *v0_ball])\n",
    "    simulator = Simulator(diagram, context)\n",
    "    simulator.Initialize()\n",
    "    time.sleep(1)\n",
    "    simulator.set_target_realtime_rate(0.2)\n",
    "    simulator.AdvanceTo(t_catch);\n",
    "    time.sleep(1)"
   ]
  },
  {
   "cell_type": "code",
   "execution_count": null,
   "id": "3dd75bfc-1f40-4197-84fc-0f291efed4aa",
   "metadata": {},
   "outputs": [],
   "source": []
  }
 ],
 "metadata": {
  "kernelspec": {
   "display_name": "Python 3 (ipykernel)",
   "language": "python",
   "name": "python3"
  },
  "language_info": {
   "codemirror_mode": {
    "name": "ipython",
    "version": 3
   },
   "file_extension": ".py",
   "mimetype": "text/x-python",
   "name": "python",
   "nbconvert_exporter": "python",
   "pygments_lexer": "ipython3",
   "version": "3.8.10"
  }
 },
 "nbformat": 4,
 "nbformat_minor": 5
}
