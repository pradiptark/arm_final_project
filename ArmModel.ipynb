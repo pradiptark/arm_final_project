{
 "cells": [
  {
   "cell_type": "code",
   "execution_count": 70,
   "metadata": {},
   "outputs": [],
   "source": [
    "from pydrake.all import (\n",
    "    ModelVisualizer, \n",
    "    StartMeshcat, \n",
    "    PackageMap, \n",
    "    ApplyVisualizationConfig, \n",
    "    VisualizationConfig,\n",
    "    DiagramBuilder,\n",
    "    AddMultibodyPlantSceneGraph,\n",
    "    MeshcatVisualizer,\n",
    "    MeshcatVisualizerParams\n",
    "    )\n",
    "from pydrake.multibody.parsing import Parser\n",
    "\n",
    "# from manipulation import running_as_notebook"
   ]
  },
  {
   "cell_type": "code",
   "execution_count": 71,
   "metadata": {},
   "outputs": [
    {
     "name": "stderr",
     "output_type": "stream",
     "text": [
      "INFO:drake:Meshcat listening for connections at http://localhost:7004\n"
     ]
    }
   ],
   "source": [
    "# Start the visualizer.\n",
    "meshcat = StartMeshcat()"
   ]
  },
  {
   "cell_type": "code",
   "execution_count": 81,
   "metadata": {},
   "outputs": [
    {
     "name": "stderr",
     "output_type": "stream",
     "text": [
      "WARNING:drake:Meshcat: Failed to load texture. /home/pradiptark/Documents/UPenn/Courses/1st_Semester/MEAM_5170_Control_and_Optimization/Final_Project/arm_final_project/net3d_2.obj references net3d_2.mtl, but Meshcat could not open filename \"/home/pradiptark/Documents/UPenn/Courses/1st_Semester/MEAM_5170_Control_and_Optimization/Final_Project/arm_final_project/net3d_2.mtl\"\n",
      "INFO:drake:Click 'Stop Running' or press Esc to quit\n"
     ]
    }
   ],
   "source": [
    "visualizer = ModelVisualizer(meshcat=meshcat)\n",
    "visualizer.AddModels(\"./panda_arm_custom.urdf\")\n",
    "visualizer.Run()\n",
    "\n",
    "# visualizer.Run(loop_once=not running_as_notebook)\n",
    "\n",
    "meshcat.DeleteAddedControls()"
   ]
  },
  {
   "cell_type": "code",
   "execution_count": null,
   "metadata": {},
   "outputs": [],
   "source": []
  }
 ],
 "metadata": {
  "kernelspec": {
   "display_name": "Python 3 (ipykernel)",
   "language": "python",
   "name": "python3"
  },
  "language_info": {
   "codemirror_mode": {
    "name": "ipython",
    "version": 3
   },
   "file_extension": ".py",
   "mimetype": "text/x-python",
   "name": "python",
   "nbconvert_exporter": "python",
   "pygments_lexer": "ipython3",
   "version": "3.8.10"
  }
 },
 "nbformat": 4,
 "nbformat_minor": 2
}
