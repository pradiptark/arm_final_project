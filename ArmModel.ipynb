{
 "cells": [
  {
   "cell_type": "code",
   "execution_count": 180,
   "metadata": {},
   "outputs": [],
   "source": [
    "from pydrake.all import (\n",
    "    ModelVisualizer, \n",
    "    StartMeshcat, \n",
    "    PackageMap, \n",
    "    ApplyVisualizationConfig, \n",
    "    VisualizationConfig,\n",
    "    DiagramBuilder,\n",
    "    AddMultibodyPlantSceneGraph,\n",
    "    MeshcatVisualizer,\n",
    "    MeshcatVisualizerParams\n",
    "    )\n",
    "from pydrake.multibody.parsing import Parser\n",
    "\n",
    "# from manipulation import running_as_notebook"
   ]
  },
  {
   "cell_type": "code",
   "execution_count": 181,
   "metadata": {},
   "outputs": [
    {
     "name": "stderr",
     "output_type": "stream",
     "text": [
      "INFO:drake:Meshcat listening for connections at http://localhost:7008\n"
     ]
    }
   ],
   "source": [
    "# Start the visualizer.\n",
    "meshcat = StartMeshcat()"
   ]
  },
  {
   "cell_type": "code",
   "execution_count": 184,
   "metadata": {},
   "outputs": [
    {
     "name": "stderr",
     "output_type": "stream",
     "text": [
      "INFO:drake:Click 'Stop Running' or press Esc to quit\n"
     ]
    }
   ],
   "source": [
    "visualizer = ModelVisualizer(meshcat=meshcat)\n",
    "# visualizer.AddModels(\"./panda_arm_custom.urdf\")\n",
    "visualizer.AddModels(\"./obstacle.urdf\")\n",
    "visualizer.Run()\n",
    "\n",
    "# visualizer.Run(loop_once=not running_as_notebook)\n",
    "\n",
    "meshcat.DeleteAddedControls()"
   ]
  },
  {
   "cell_type": "code",
   "execution_count": null,
   "metadata": {},
   "outputs": [],
   "source": [
    "# Test PointCloud Meshcat\n",
    "\n",
    "# meshcat_path = \"http://localhost:\" + str(meshcat.port())\n",
    "\n",
    "# meshcat_pcl_viz = MeshcatPointCloudVisualizer(meshcat, meshcat_path, 0.2)\n",
    "# context = meshcat_pcl_viz.CreateDefaultContext()\n",
    "\n",
    "# pcl = PointCloud(N,Fields(BaseField.kXYZs))\n",
    "# ee_pos = np.empty((0,3))\n",
    "# t = 0\n",
    "# while t <= t_catch:\n",
    "#     ee_pos = np.vstack((ee_pos, create_ee_query()(x_traj.value(t))))\n",
    "#     t += t_catch/N\n",
    "\n",
    "# xyzs = np.array(ee_pos)\n",
    "# pcl.mutable_xyzs()[:] = xyzs.T\n",
    "# pcl.mutable_rgbs()[:] = rgbs\n",
    "\n",
    "# meshcat_pcl_viz.cloud_input_port().FixValue(context, AbstractValue.Make(pcl))\n",
    "# meshcat_pcl_viz.Publish()\n",
    "\n",
    "# meshcat_pcl = builder.AddSystem(meshcat_pcl_viz)\n",
    "# builder.Connect(pcl, meshcat_pcl_viz.cloud_input_port())\n",
    "\n",
    "# builder.Connect(ball.get_geometry_poses_output_port(), scene_graph.get_source_pose_port(ball.get_source_id()))\n",
    "# builder.Connect(scene_graph.get_query_output_port(), ball.get_geometry_query_input_port())"
   ]
  }
 ],
 "metadata": {
  "kernelspec": {
   "display_name": "Python 3 (ipykernel)",
   "language": "python",
   "name": "python3"
  },
  "language_info": {
   "codemirror_mode": {
    "name": "ipython",
    "version": 3
   },
   "file_extension": ".py",
   "mimetype": "text/x-python",
   "name": "python",
   "nbconvert_exporter": "python",
   "pygments_lexer": "ipython3",
   "version": "3.8.10"
  }
 },
 "nbformat": 4,
 "nbformat_minor": 2
}
